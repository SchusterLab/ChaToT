{
 "cells": [
  {
   "cell_type": "code",
   "execution_count": null,
   "id": "900f0329-546c-4a15-9d02-1d2ce3aa5b45",
   "metadata": {},
   "outputs": [
    {
     "name": "stdout",
     "output_type": "stream",
     "text": [
      "Broadcast server running on 0.0.0.0:9091\n",
      "NS running on 0.0.0.0:8884 (0.0.0.0)\n",
      "Warning: HMAC key not set. Anyone can connect to this server!\n",
      "URI = PYRO:Pyro.NameServer@0.0.0.0:8884\n"
     ]
    }
   ],
   "source": [
    "from qick.pyro import start_nameserver\n",
    "start_nameserver(ns_port=8884)"
   ]
  }
 ],
 "metadata": {
  "kernelspec": {
   "display_name": "Python 3 (ipykernel)",
   "language": "python",
   "name": "python3"
  },
  "language_info": {
   "codemirror_mode": {
    "name": "ipython",
    "version": 3
   },
   "file_extension": ".py",
   "mimetype": "text/x-python",
   "name": "python",
   "nbconvert_exporter": "python",
   "pygments_lexer": "ipython3",
   "version": "3.12.6"
  }
 },
 "nbformat": 4,
 "nbformat_minor": 5
}
