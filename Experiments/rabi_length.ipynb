{
 "cells": [
  {
   "cell_type": "code",
   "execution_count": 2,
   "id": "5ebbd3ff-6542-457f-88e2-f5101050b8cd",
   "metadata": {},
   "outputs": [
    {
     "name": "stdout",
     "output_type": "stream",
     "text": [
      "No module named 'visa'\n",
      "Warning VISA library import failed\n",
      "Warning serial library import failed.\n",
      "Could not load Autonics TM4 Driver\n"
     ]
    }
   ],
   "source": [
    "import sys, datetime\n",
    "from qick.asm_v2 import QickSweep1D\n",
    "\n",
    "sys.path.append(\"../Libraries\") # replace this with your location of the Libraries folder\n",
    "from rabi_length import *"
   ]
  },
  {
   "cell_type": "code",
   "execution_count": 9,
   "id": "2dab9425-588a-47e0-b433-c03a8ef8545a",
   "metadata": {},
   "outputs": [
    {
     "ename": "RuntimeError",
     "evalue": "requested sweep step is smaller than the available resolution: span=86, steps=99",
     "output_type": "error",
     "traceback": [
      "\u001b[1;31m---------------------------------------------------------------------------\u001b[0m",
      "\u001b[1;31mRuntimeError\u001b[0m                              Traceback (most recent call last)",
      "Cell \u001b[1;32mIn[9], line 30\u001b[0m\n\u001b[0;32m     11\u001b[0m max_length \u001b[38;5;241m=\u001b[39m \u001b[38;5;241m0.21\u001b[39m\n\u001b[0;32m     13\u001b[0m meas\u001b[38;5;241m.\u001b[39mcfg\u001b[38;5;241m.\u001b[39mexpt \u001b[38;5;241m=\u001b[39m {\n\u001b[0;32m     14\u001b[0m     \u001b[38;5;124m\"\u001b[39m\u001b[38;5;124mn_avg\u001b[39m\u001b[38;5;124m\"\u001b[39m: \u001b[38;5;241m1000\u001b[39m,\n\u001b[0;32m     15\u001b[0m     \u001b[38;5;124m\"\u001b[39m\u001b[38;5;124mres_freq\u001b[39m\u001b[38;5;124m\"\u001b[39m: \u001b[38;5;241m5985.25\u001b[39m,\n\u001b[1;32m   (...)\u001b[0m\n\u001b[0;32m     27\u001b[0m     \u001b[38;5;124m\"\u001b[39m\u001b[38;5;124mmax_length\u001b[39m\u001b[38;5;124m\"\u001b[39m: max_length,\n\u001b[0;32m     28\u001b[0m }\n\u001b[1;32m---> 30\u001b[0m \u001b[43mmeas\u001b[49m\u001b[38;5;241;43m.\u001b[39;49m\u001b[43macquire\u001b[49m\u001b[43m(\u001b[49m\u001b[43m)\u001b[49m\n\u001b[0;32m     31\u001b[0m meas\u001b[38;5;241m.\u001b[39mdisplay(save\u001b[38;5;241m=\u001b[39m\u001b[38;5;28;01mTrue\u001b[39;00m)\n\u001b[0;32m     32\u001b[0m meas\u001b[38;5;241m.\u001b[39msavedata()\n",
      "File \u001b[1;32m~\\Documents\\charles_qick\\Experiments\\../Libraries\\rabi_length.py:66\u001b[0m, in \u001b[0;36mrabi_length.acquire\u001b[1;34m(self, progress)\u001b[0m\n\u001b[0;32m     64\u001b[0m \u001b[38;5;28;01mdef\u001b[39;00m \u001b[38;5;21macquire\u001b[39m(\u001b[38;5;28mself\u001b[39m, progress\u001b[38;5;241m=\u001b[39m\u001b[38;5;28;01mFalse\u001b[39;00m):\n\u001b[0;32m     65\u001b[0m     \u001b[38;5;28msuper\u001b[39m()\u001b[38;5;241m.\u001b[39macquire()\n\u001b[1;32m---> 66\u001b[0m     prog \u001b[38;5;241m=\u001b[39m \u001b[43mrabi_pulse\u001b[49m\u001b[43m(\u001b[49m\u001b[43msoccfg\u001b[49m\u001b[38;5;241;43m=\u001b[39;49m\u001b[38;5;28;43mself\u001b[39;49m\u001b[38;5;241;43m.\u001b[39;49m\u001b[43msoccfg\u001b[49m\u001b[43m,\u001b[49m\u001b[43m \u001b[49m\u001b[43mreps\u001b[49m\u001b[38;5;241;43m=\u001b[39;49m\u001b[38;5;28;43mself\u001b[39;49m\u001b[38;5;241;43m.\u001b[39;49m\u001b[43mcfg\u001b[49m\u001b[38;5;241;43m.\u001b[39;49m\u001b[43mexpt\u001b[49m\u001b[38;5;241;43m.\u001b[39;49m\u001b[43mn_avg\u001b[49m\u001b[43m,\u001b[49m\u001b[43m \u001b[49m\u001b[43mfinal_delay\u001b[49m\u001b[38;5;241;43m=\u001b[39;49m\u001b[38;5;28;43mself\u001b[39;49m\u001b[38;5;241;43m.\u001b[39;49m\u001b[43mcfg\u001b[49m\u001b[38;5;241;43m.\u001b[39;49m\u001b[43mexpt\u001b[49m\u001b[38;5;241;43m.\u001b[39;49m\u001b[43mrelaxation_time\u001b[49m\u001b[43m,\u001b[49m\u001b[43m \u001b[49m\u001b[43mcfg\u001b[49m\u001b[38;5;241;43m=\u001b[39;49m\u001b[38;5;28;43mself\u001b[39;49m\u001b[38;5;241;43m.\u001b[39;49m\u001b[43mcfg\u001b[49m\u001b[43m)\u001b[49m\n\u001b[0;32m     67\u001b[0m     ls \u001b[38;5;241m=\u001b[39m np\u001b[38;5;241m.\u001b[39mlinspace(\u001b[38;5;28mself\u001b[39m\u001b[38;5;241m.\u001b[39mcfg\u001b[38;5;241m.\u001b[39mexpt\u001b[38;5;241m.\u001b[39mmin_length, \u001b[38;5;28mself\u001b[39m\u001b[38;5;241m.\u001b[39mcfg\u001b[38;5;241m.\u001b[39mexpt\u001b[38;5;241m.\u001b[39mmax_length, \u001b[38;5;28mself\u001b[39m\u001b[38;5;241m.\u001b[39mcfg\u001b[38;5;241m.\u001b[39mexpt\u001b[38;5;241m.\u001b[39msteps) \u001b[38;5;66;03m# relaxation time should be somewhere else in the cfg\u001b[39;00m\n\u001b[0;32m     68\u001b[0m     iq_list \u001b[38;5;241m=\u001b[39m prog\u001b[38;5;241m.\u001b[39macquire(\u001b[38;5;28mself\u001b[39m\u001b[38;5;241m.\u001b[39msoc)\n",
      "File \u001b[1;32m~\\Documents\\charles_qick\\Lib\\site-packages\\qick\\asm_v2.py:2423\u001b[0m, in \u001b[0;36mAveragerProgramV2.__init__\u001b[1;34m(self, soccfg, reps, final_delay, final_wait, initial_delay, reps_innermost, before_reps, after_reps, cfg)\u001b[0m\n\u001b[0;32m   2420\u001b[0m \u001b[38;5;28msuper\u001b[39m()\u001b[38;5;241m.\u001b[39m\u001b[38;5;21m__init__\u001b[39m(soccfg)\n\u001b[0;32m   2422\u001b[0m \u001b[38;5;66;03m# fill the program\u001b[39;00m\n\u001b[1;32m-> 2423\u001b[0m \u001b[38;5;28;43mself\u001b[39;49m\u001b[38;5;241;43m.\u001b[39;49m\u001b[43mcompile\u001b[49m\u001b[43m(\u001b[49m\u001b[43m)\u001b[49m\n",
      "File \u001b[1;32m~\\Documents\\charles_qick\\Lib\\site-packages\\qick\\asm_v2.py:2443\u001b[0m, in \u001b[0;36mAveragerProgramV2.compile\u001b[1;34m(self)\u001b[0m\n\u001b[0;32m   2440\u001b[0m \u001b[38;5;28mself\u001b[39m\u001b[38;5;241m.\u001b[39mmake_program()\n\u001b[0;32m   2442\u001b[0m \u001b[38;5;66;03m# process macros, generate ASM and waveform list, generate binary program\u001b[39;00m\n\u001b[1;32m-> 2443\u001b[0m \u001b[38;5;28;43msuper\u001b[39;49m\u001b[43m(\u001b[49m\u001b[43m)\u001b[49m\u001b[38;5;241;43m.\u001b[39;49m\u001b[43mcompile\u001b[49m\u001b[43m(\u001b[49m\u001b[43m)\u001b[49m\n\u001b[0;32m   2445\u001b[0m \u001b[38;5;66;03m# use the loop list to set up the data shape\u001b[39;00m\n\u001b[0;32m   2446\u001b[0m \u001b[38;5;28mself\u001b[39m\u001b[38;5;241m.\u001b[39msetup_acquire(counter_addr\u001b[38;5;241m=\u001b[39m\u001b[38;5;28mself\u001b[39m\u001b[38;5;241m.\u001b[39mCOUNTER_ADDR, loop_dims\u001b[38;5;241m=\u001b[39m[x[\u001b[38;5;241m1\u001b[39m] \u001b[38;5;28;01mfor\u001b[39;00m x \u001b[38;5;129;01min\u001b[39;00m \u001b[38;5;28mself\u001b[39m\u001b[38;5;241m.\u001b[39mloops], avg_level\u001b[38;5;241m=\u001b[39m\u001b[38;5;241m0\u001b[39m)\n",
      "File \u001b[1;32m~\\Documents\\charles_qick\\Lib\\site-packages\\qick\\asm_v2.py:1931\u001b[0m, in \u001b[0;36mQickProgramV2.compile\u001b[1;34m(self)\u001b[0m\n\u001b[0;32m   1930\u001b[0m \u001b[38;5;28;01mdef\u001b[39;00m \u001b[38;5;21mcompile\u001b[39m(\u001b[38;5;28mself\u001b[39m):\n\u001b[1;32m-> 1931\u001b[0m     \u001b[38;5;28;43mself\u001b[39;49m\u001b[38;5;241;43m.\u001b[39;49m\u001b[43m_make_asm\u001b[49m\u001b[43m(\u001b[49m\u001b[43m)\u001b[49m\n\u001b[0;32m   1932\u001b[0m     \u001b[38;5;28mself\u001b[39m\u001b[38;5;241m.\u001b[39m_make_binprog()\n",
      "File \u001b[1;32m~\\Documents\\charles_qick\\Lib\\site-packages\\qick\\asm_v2.py:1967\u001b[0m, in \u001b[0;36mQickProgramV2._make_asm\u001b[1;34m(self)\u001b[0m\n\u001b[0;32m   1964\u001b[0m \u001b[38;5;66;03m# preprocess macros\u001b[39;00m\n\u001b[0;32m   1965\u001b[0m \u001b[38;5;66;03m# this means stepping through the timeline (evaluating \"auto\" times etc.)\u001b[39;00m\n\u001b[0;32m   1966\u001b[0m \u001b[38;5;28;01mfor\u001b[39;00m i, macro \u001b[38;5;129;01min\u001b[39;00m \u001b[38;5;28menumerate\u001b[39m(\u001b[38;5;28mself\u001b[39m\u001b[38;5;241m.\u001b[39mmacro_list):\n\u001b[1;32m-> 1967\u001b[0m     \u001b[43mmacro\u001b[49m\u001b[38;5;241;43m.\u001b[39;49m\u001b[43mpreprocess\u001b[49m\u001b[43m(\u001b[49m\u001b[38;5;28;43mself\u001b[39;49m\u001b[43m)\u001b[49m\n\u001b[0;32m   1968\u001b[0m \u001b[38;5;66;03m# initialize sweep registers\u001b[39;00m\n\u001b[0;32m   1969\u001b[0m \u001b[38;5;28;01mfor\u001b[39;00m k,v \u001b[38;5;129;01min\u001b[39;00m \u001b[38;5;28mself\u001b[39m\u001b[38;5;241m.\u001b[39mreg_dict\u001b[38;5;241m.\u001b[39mitems():\n",
      "File \u001b[1;32m~\\Documents\\charles_qick\\Lib\\site-packages\\qick\\asm_v2.py:875\u001b[0m, in \u001b[0;36mPulse.preprocess\u001b[1;34m(self, prog)\u001b[0m\n\u001b[0;32m    873\u001b[0m     \u001b[38;5;28;01melse\u001b[39;00m:\n\u001b[0;32m    874\u001b[0m         prog\u001b[38;5;241m.\u001b[39mset_timestamp(t \u001b[38;5;241m+\u001b[39m pulse_length, gen_ch\u001b[38;5;241m=\u001b[39m\u001b[38;5;28mself\u001b[39m\u001b[38;5;241m.\u001b[39mch)\n\u001b[1;32m--> 875\u001b[0m \u001b[38;5;28;43mself\u001b[39;49m\u001b[38;5;241;43m.\u001b[39;49m\u001b[43mconvert_time\u001b[49m\u001b[43m(\u001b[49m\u001b[43mprog\u001b[49m\u001b[43m,\u001b[49m\u001b[43m \u001b[49m\u001b[43mt\u001b[49m\u001b[43m,\u001b[49m\u001b[43m \u001b[49m\u001b[38;5;124;43m\"\u001b[39;49m\u001b[38;5;124;43mt\u001b[39;49m\u001b[38;5;124;43m\"\u001b[39;49m\u001b[43m)\u001b[49m\n",
      "File \u001b[1;32m~\\Documents\\charles_qick\\Lib\\site-packages\\qick\\asm_v2.py:766\u001b[0m, in \u001b[0;36mTimedMacro.convert_time\u001b[1;34m(self, prog, t, name)\u001b[0m\n\u001b[0;32m    763\u001b[0m     t \u001b[38;5;241m=\u001b[39m QickParam(start\u001b[38;5;241m=\u001b[39mt, spans\u001b[38;5;241m=\u001b[39m{})\n\u001b[0;32m    765\u001b[0m t_reg \u001b[38;5;241m=\u001b[39m prog\u001b[38;5;241m.\u001b[39mus2cycles(t)\n\u001b[1;32m--> 766\u001b[0m \u001b[43mt_reg\u001b[49m\u001b[38;5;241;43m.\u001b[39;49m\u001b[43mto_steps\u001b[49m\u001b[43m(\u001b[49m\u001b[43mprog\u001b[49m\u001b[38;5;241;43m.\u001b[39;49m\u001b[43mloop_dict\u001b[49m\u001b[43m)\u001b[49m\n\u001b[0;32m    767\u001b[0m \u001b[38;5;28;01mif\u001b[39;00m t_reg\u001b[38;5;241m.\u001b[39mis_sweep():\n\u001b[0;32m    768\u001b[0m     \u001b[38;5;66;03m# allocate a register and initialize with the swept value\u001b[39;00m\n\u001b[0;32m    769\u001b[0m     \u001b[38;5;66;03m# TODO: pick a meaningful register name?\u001b[39;00m\n\u001b[0;32m    770\u001b[0m     t_reg \u001b[38;5;241m=\u001b[39m prog\u001b[38;5;241m.\u001b[39madd_reg(init\u001b[38;5;241m=\u001b[39mt_reg)\n",
      "File \u001b[1;32m~\\Documents\\charles_qick\\Lib\\site-packages\\qick\\asm_v2.py:303\u001b[0m, in \u001b[0;36mQickRawParam.to_steps\u001b[1;34m(self, loops)\u001b[0m\n\u001b[0;32m    301\u001b[0m     stepsize \u001b[38;5;241m=\u001b[39m \u001b[38;5;28mint\u001b[39m(\u001b[38;5;28mself\u001b[39m\u001b[38;5;241m.\u001b[39mquantize \u001b[38;5;241m*\u001b[39m np\u001b[38;5;241m.\u001b[39mtrunc(r\u001b[38;5;241m/\u001b[39m(nSteps\u001b[38;5;241m-\u001b[39m\u001b[38;5;241m1\u001b[39m)\u001b[38;5;241m/\u001b[39m\u001b[38;5;28mself\u001b[39m\u001b[38;5;241m.\u001b[39mquantize))\n\u001b[0;32m    302\u001b[0m     \u001b[38;5;28;01mif\u001b[39;00m stepsize\u001b[38;5;241m==\u001b[39m\u001b[38;5;241m0\u001b[39m:\n\u001b[1;32m--> 303\u001b[0m         \u001b[38;5;28;01mraise\u001b[39;00m \u001b[38;5;167;01mRuntimeError\u001b[39;00m(\u001b[38;5;124m\"\u001b[39m\u001b[38;5;124mrequested sweep step is smaller than the available resolution: span=\u001b[39m\u001b[38;5;132;01m%d\u001b[39;00m\u001b[38;5;124m, steps=\u001b[39m\u001b[38;5;132;01m%d\u001b[39;00m\u001b[38;5;124m\"\u001b[39m\u001b[38;5;241m%\u001b[39m(r, nSteps\u001b[38;5;241m-\u001b[39m\u001b[38;5;241m1\u001b[39m))\n\u001b[0;32m    304\u001b[0m \u001b[38;5;28mself\u001b[39m\u001b[38;5;241m.\u001b[39msteps[loop] \u001b[38;5;241m=\u001b[39m {\u001b[38;5;124m\"\u001b[39m\u001b[38;5;124mstep\u001b[39m\u001b[38;5;124m\"\u001b[39m:stepsize, \u001b[38;5;124m\"\u001b[39m\u001b[38;5;124mspan\u001b[39m\u001b[38;5;124m\"\u001b[39m:stepsize\u001b[38;5;241m*\u001b[39m(nSteps\u001b[38;5;241m-\u001b[39m\u001b[38;5;241m1\u001b[39m)}\n",
      "\u001b[1;31mRuntimeError\u001b[0m: requested sweep step is smaller than the available resolution: span=86, steps=99"
     ]
    }
   ],
   "source": [
    "date = str(datetime.datetime.now().strftime('%Y_%m_%d'))\n",
    "time = str(datetime.datetime.now().strftime('%H;%M;%S'))\n",
    "\n",
    "datapath = f'G:\\\\My Drive\\\\chatot\\\\data\\\\rabi_length\\\\{date}\\\\{time}\\\\' # replace this with your data location\n",
    "\n",
    "config_file = f\"..\\\\..\\\\..\\\\..\\\\cfg\\\\llosta.json\" # replace this with your config\n",
    "\n",
    "meas = rabi_length(path=datapath, config_file=config_file)\n",
    "\n",
    "min_length = 0.01\n",
    "max_length = 0.25\n",
    "\n",
    "meas.cfg.expt = {\n",
    "    \"n_avg\": 1000,\n",
    "    \"res_freq\": 5985.25,\n",
    "    \"res_gain\": 0.05,\n",
    "    \"res_pulse_len\": 5,\n",
    "    \"res_phase\": 0,\n",
    "    \"qubit_pulse_len\": QickSweep1D('length_loop', min_length, max_length),\n",
    "    \"qubit_gain\": 0.1,\n",
    "    \"qubit_freq\": 4303.8,\n",
    "    \"qubit_phase\": 0,\n",
    "    \"trig_offset\": 0.5,\n",
    "    \"relaxation_time\": 50,\n",
    "    \"steps\": 100,\n",
    "    \"min_length\": min_length,\n",
    "    \"max_length\": max_length,\n",
    "}\n",
    "\n",
    "meas.acquire()\n",
    "meas.display(save=True)\n",
    "meas.savedata()"
   ]
  }
 ],
 "metadata": {
  "kernelspec": {
   "display_name": "Python 3 (ipykernel)",
   "language": "python",
   "name": "python3"
  },
  "language_info": {
   "codemirror_mode": {
    "name": "ipython",
    "version": 3
   },
   "file_extension": ".py",
   "mimetype": "text/x-python",
   "name": "python",
   "nbconvert_exporter": "python",
   "pygments_lexer": "ipython3",
   "version": "3.12.6"
  }
 },
 "nbformat": 4,
 "nbformat_minor": 5
}
