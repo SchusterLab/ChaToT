{
 "cells": [
  {
   "cell_type": "code",
   "execution_count": 1,
   "id": "8d2b9499-e4ec-48e5-8d77-3c38ece554a5",
   "metadata": {},
   "outputs": [
    {
     "name": "stdout",
     "output_type": "stream",
     "text": [
      "No module named 'visa'\n",
      "Warning VISA library import failed\n",
      "Warning serial library import failed.\n",
      "Could not load Autonics TM4 Driver\n"
     ]
    }
   ],
   "source": [
    "import sys, datetime\n",
    "from qick.asm_v2 import QickSweep1D\n",
    "import numpy as np\n",
    "\n",
    "sys.path.append(\"../Libraries\") # replace this with your location of the Libraries folder\n",
    "from single_shot_filtering import *"
   ]
  },
  {
   "cell_type": "code",
   "execution_count": null,
   "id": "93ef1536-c561-4514-85f8-84b1e8f3bc60",
   "metadata": {},
   "outputs": [],
   "source": [
    "date = str(datetime.datetime.now().strftime('%Y_%m_%d'))\n",
    "time = str(datetime.datetime.now().strftime('%H;%M;%S'))\n",
    "\n",
    "datapath = f'G:\\\\My Drive\\\\chatot\\\\data\\\\single_shot_filtering\\\\{date}\\\\{time}\\\\' # replace this with your data location\n",
    "\n",
    "config_file = f\"..\\\\..\\\\..\\\\..\\\\cfg\\\\llosta.json\" # replace this with your config\n",
    "\n",
    "meas = single_shot_filtering(path=datapath, config_file=config_file)\n",
    "\n",
    "def filter(n): # function to be the filter. change to whatever\n",
    "    return linear_filter(n)\n",
    "\n",
    "def linear_filter(n):\n",
    "    return np.linspace(1, 0, n)\n",
    "\n",
    "def no_filter(n):\n",
    "    return np.ones(n)\n",
    "\n",
    "meas.cfg.expt = {\n",
    "    \"n_count\": 300,\n",
    "    \"res_freq\": 5984.9,\n",
    "    \"res_gain\": 0.03,\n",
    "    \"res_pulse_len\": 5, \n",
    "    \"res_phase\": 0,\n",
    "    \"trig_offset\": 0.45,\n",
    "    \"filter\": filter, # what's the best way to do this?\n",
    "    \"relaxation_time\": 400\n",
    "}\n",
    "\n",
    "data = meas.acquire()\n",
    "meas.display(save=True)\n",
    "meas.savedata()"
   ]
  }
 ],
 "metadata": {
  "kernelspec": {
   "display_name": "Python 3 (ipykernel)",
   "language": "python",
   "name": "python3"
  },
  "language_info": {
   "codemirror_mode": {
    "name": "ipython",
    "version": 3
   },
   "file_extension": ".py",
   "mimetype": "text/x-python",
   "name": "python",
   "nbconvert_exporter": "python",
   "pygments_lexer": "ipython3",
   "version": "3.12.6"
  }
 },
 "nbformat": 4,
 "nbformat_minor": 5
}
