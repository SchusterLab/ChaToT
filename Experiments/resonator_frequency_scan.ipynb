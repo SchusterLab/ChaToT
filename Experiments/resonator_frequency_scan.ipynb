{
 "cells": [
  {
   "cell_type": "markdown",
   "id": "3efdfc7e-1480-45a3-b1eb-0b2e9b6fcac2",
   "metadata": {},
   "source": [
    "# Imports"
   ]
  },
  {
   "cell_type": "code",
   "execution_count": 2,
   "id": "e451c65a-fd43-4913-9b87-38a17de85468",
   "metadata": {},
   "outputs": [],
   "source": [
    "import sys\n",
    "import datetime\n",
    "\n",
    "sys.path.append(\"../Libraries\") # replace this with your location of the Libraries folder\n",
    "from resonator_frequency_scan import *"
   ]
  },
  {
   "cell_type": "markdown",
   "id": "7d1053a7-c41c-432a-93c2-ad6324831cad",
   "metadata": {},
   "source": [
    "# Run experiment"
   ]
  },
  {
   "cell_type": "code",
   "execution_count": null,
   "id": "9005911c-eec4-4229-8502-f158d1c83c0e",
   "metadata": {},
   "outputs": [],
   "source": [
    "date = str(datetime.datetime.now().strftime('%Y_%m_%d'))\n",
    "time = str(datetime.datetime.now().strftime('%H;%M;%S'))\n",
    "\n",
    "datapath = f'G:\\\\My Drive\\\\chatot\\\\data\\\\resonator_frequency_scan\\\\{date}\\\\{time}\\\\' # replace this with your data location\n",
    "\n",
    "config_file = f\"..\\\\..\\\\..\\\\..\\\\cfg\\\\resonator_frequency_scan.json\" # replace this with your config\n",
    "\n",
    "meas = resonator_frequency_scan(path=datapath, config_file=config_file)\n",
    "\n",
    "meas.acquire()\n",
    "meas.display()"
   ]
  }
 ],
 "metadata": {
  "kernelspec": {
   "display_name": "Python 3 (ipykernel)",
   "language": "python",
   "name": "python3"
  },
  "language_info": {
   "codemirror_mode": {
    "name": "ipython",
    "version": 3
   },
   "file_extension": ".py",
   "mimetype": "text/x-python",
   "name": "python",
   "nbconvert_exporter": "python",
   "pygments_lexer": "ipython3",
   "version": "3.12.6"
  }
 },
 "nbformat": 4,
 "nbformat_minor": 5
}
