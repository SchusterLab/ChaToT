{
 "cells": [
  {
   "cell_type": "markdown",
   "id": "3efdfc7e-1480-45a3-b1eb-0b2e9b6fcac2",
   "metadata": {},
   "source": [
    "# Imports"
   ]
  },
  {
   "cell_type": "code",
   "execution_count": 1,
   "id": "e451c65a-fd43-4913-9b87-38a17de85468",
   "metadata": {},
   "outputs": [
    {
     "name": "stdout",
     "output_type": "stream",
     "text": [
      "No module named 'visa'\n",
      "Warning VISA library import failed\n",
      "Warning serial library import failed.\n",
      "Could not load Autonics TM4 Driver\n"
     ]
    }
   ],
   "source": [
    "import sys, datetime\n",
    "from qick.asm_v2 import QickSweep1D\n",
    "\n",
    "sys.path.append(\"../Libraries\") # replace this with your location of the Libraries folder\n",
    "from resonator_spectroscopy import *"
   ]
  },
  {
   "cell_type": "markdown",
   "id": "7d1053a7-c41c-432a-93c2-ad6324831cad",
   "metadata": {},
   "source": [
    "# Run experiment"
   ]
  },
  {
   "cell_type": "code",
   "execution_count": 2,
   "id": "9005911c-eec4-4229-8502-f158d1c83c0e",
   "metadata": {},
   "outputs": [
    {
     "name": "stdout",
     "output_type": "stream",
     "text": [
      "Warning: Could not connect proxies!\n",
      "Failed to locate the nameserver\n"
     ]
    },
    {
     "ename": "KeyError",
     "evalue": "'chatot'",
     "output_type": "error",
     "traceback": [
      "\u001b[1;31m---------------------------------------------------------------------------\u001b[0m",
      "\u001b[1;31mKeyError\u001b[0m                                  Traceback (most recent call last)",
      "Cell \u001b[1;32mIn[2], line 26\u001b[0m\n\u001b[0;32m     12\u001b[0m steps \u001b[38;5;241m=\u001b[39m \u001b[38;5;241m200\u001b[39m\n\u001b[0;32m     14\u001b[0m meas\u001b[38;5;241m.\u001b[39mcfg\u001b[38;5;241m.\u001b[39mexpt \u001b[38;5;241m=\u001b[39m {\n\u001b[0;32m     15\u001b[0m     \u001b[38;5;124m\"\u001b[39m\u001b[38;5;124mn_avg\u001b[39m\u001b[38;5;124m\"\u001b[39m: \u001b[38;5;241m200\u001b[39m,\n\u001b[0;32m     16\u001b[0m     \u001b[38;5;124m\"\u001b[39m\u001b[38;5;124mpulse_len\u001b[39m\u001b[38;5;124m\"\u001b[39m: \u001b[38;5;241m5\u001b[39m,\n\u001b[1;32m   (...)\u001b[0m\n\u001b[0;32m     23\u001b[0m     \u001b[38;5;124m\"\u001b[39m\u001b[38;5;124mspan\u001b[39m\u001b[38;5;124m\"\u001b[39m: span\n\u001b[0;32m     24\u001b[0m }\n\u001b[1;32m---> 26\u001b[0m \u001b[43mmeas\u001b[49m\u001b[38;5;241;43m.\u001b[39;49m\u001b[43macquire\u001b[49m\u001b[43m(\u001b[49m\u001b[43m)\u001b[49m\n\u001b[0;32m     27\u001b[0m meas\u001b[38;5;241m.\u001b[39mdisplay(save\u001b[38;5;241m=\u001b[39m\u001b[38;5;28;01mFalse\u001b[39;00m)\n\u001b[0;32m     28\u001b[0m \u001b[38;5;66;03m#meas.savedata()\u001b[39;00m\n",
      "File \u001b[1;32m~\\Documents\\charles_qick\\Experiments\\../Libraries\\resonator_spectroscopy.py:44\u001b[0m, in \u001b[0;36mresonator_spectroscopy.acquire\u001b[1;34m(self, progress)\u001b[0m\n\u001b[0;32m     43\u001b[0m \u001b[38;5;28;01mdef\u001b[39;00m \u001b[38;5;21macquire\u001b[39m(\u001b[38;5;28mself\u001b[39m, progress\u001b[38;5;241m=\u001b[39m\u001b[38;5;28;01mFalse\u001b[39;00m):\n\u001b[1;32m---> 44\u001b[0m     \u001b[38;5;28;43msuper\u001b[39;49m\u001b[43m(\u001b[49m\u001b[43m)\u001b[49m\u001b[38;5;241;43m.\u001b[39;49m\u001b[43macquire\u001b[49m\u001b[43m(\u001b[49m\u001b[43m)\u001b[49m\n\u001b[0;32m     45\u001b[0m     prog \u001b[38;5;241m=\u001b[39m res_spec_pulse(soccfg\u001b[38;5;241m=\u001b[39m\u001b[38;5;28mself\u001b[39m\u001b[38;5;241m.\u001b[39msoccfg, reps\u001b[38;5;241m=\u001b[39m\u001b[38;5;28mself\u001b[39m\u001b[38;5;241m.\u001b[39mcfg\u001b[38;5;241m.\u001b[39mexpt\u001b[38;5;241m.\u001b[39mn_avg, final_delay\u001b[38;5;241m=\u001b[39m\u001b[38;5;241m0.5\u001b[39m, cfg\u001b[38;5;241m=\u001b[39m\u001b[38;5;28mself\u001b[39m\u001b[38;5;241m.\u001b[39mcfg)\n\u001b[0;32m     46\u001b[0m     iq_list \u001b[38;5;241m=\u001b[39m prog\u001b[38;5;241m.\u001b[39macquire(\u001b[38;5;28mself\u001b[39m\u001b[38;5;241m.\u001b[39msoc)\n",
      "File \u001b[1;32m~\\Documents\\charles_qick\\Lib\\site-packages\\slab\\experiment.py:121\u001b[0m, in \u001b[0;36mExperiment.acquire\u001b[1;34m(self)\u001b[0m\n\u001b[0;32m    119\u001b[0m \u001b[38;5;28mself\u001b[39m\u001b[38;5;241m.\u001b[39mproxy_name \u001b[38;5;241m=\u001b[39m cfg\u001b[38;5;241m.\u001b[39minstrument_manager\u001b[38;5;241m.\u001b[39mproxy_name\n\u001b[0;32m    120\u001b[0m \u001b[38;5;28mself\u001b[39m\u001b[38;5;241m.\u001b[39mim \u001b[38;5;241m=\u001b[39m InstrumentManager(ns_address\u001b[38;5;241m=\u001b[39m\u001b[38;5;28mself\u001b[39m\u001b[38;5;241m.\u001b[39mns_address, ns_port\u001b[38;5;241m=\u001b[39m\u001b[38;5;28mself\u001b[39m\u001b[38;5;241m.\u001b[39mns_port)\n\u001b[1;32m--> 121\u001b[0m \u001b[38;5;28mself\u001b[39m\u001b[38;5;241m.\u001b[39msoc \u001b[38;5;241m=\u001b[39m \u001b[38;5;28;43mself\u001b[39;49m\u001b[38;5;241;43m.\u001b[39;49m\u001b[43mim\u001b[49m\u001b[43m[\u001b[49m\u001b[38;5;28;43mself\u001b[39;49m\u001b[38;5;241;43m.\u001b[39;49m\u001b[43mproxy_name\u001b[49m\u001b[43m]\u001b[49m\n\u001b[0;32m    122\u001b[0m \u001b[38;5;28mself\u001b[39m\u001b[38;5;241m.\u001b[39msoccfg \u001b[38;5;241m=\u001b[39m QickConfig(\u001b[38;5;28mself\u001b[39m\u001b[38;5;241m.\u001b[39msoc\u001b[38;5;241m.\u001b[39mget_cfg())\n",
      "\u001b[1;31mKeyError\u001b[0m: 'chatot'"
     ]
    }
   ],
   "source": [
    "date = str(datetime.datetime.now().strftime('%Y_%m_%d'))\n",
    "time = str(datetime.datetime.now().strftime('%H;%M;%S'))\n",
    "\n",
    "datapath = f'G:\\\\My Drive\\\\chatot\\\\data\\\\resonator_spectroscopy\\\\{date}\\\\{time}\\\\' # replace this with your data location\n",
    "\n",
    "config_file = f\"..\\\\..\\\\..\\\\..\\\\cfg\\\\llosta.json\" # replace this with your config\n",
    "\n",
    "meas = resonator_spectroscopy(path=datapath, config_file=config_file)\n",
    "\n",
    "center = 5985\n",
    "span = 1\n",
    "steps = 200\n",
    "\n",
    "meas.cfg.expt = {\n",
    "    \"n_avg\": 200,\n",
    "    \"pulse_len\": 5,\n",
    "    \"phase\": 0,\n",
    "    \"gain\": 0.05,\n",
    "    \"trig_offset\": 0.5,\n",
    "    \"freq\": QickSweep1D('freq_loop', center - span, center + span),\n",
    "    \"steps\": steps,\n",
    "    \"center\": center,\n",
    "    \"span\": span\n",
    "}\n",
    "\n",
    "meas.acquire()\n",
    "meas.display(save=False)\n",
    "#meas.savedata()"
   ]
  }
 ],
 "metadata": {
  "kernelspec": {
   "display_name": "Python 3 (ipykernel)",
   "language": "python",
   "name": "python3"
  },
  "language_info": {
   "codemirror_mode": {
    "name": "ipython",
    "version": 3
   },
   "file_extension": ".py",
   "mimetype": "text/x-python",
   "name": "python",
   "nbconvert_exporter": "python",
   "pygments_lexer": "ipython3",
   "version": "3.12.6"
  }
 },
 "nbformat": 4,
 "nbformat_minor": 5
}
