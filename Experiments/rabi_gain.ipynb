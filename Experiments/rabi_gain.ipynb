{
 "cells": [
  {
   "cell_type": "code",
   "execution_count": 1,
   "id": "56760592-b517-415a-9476-fd384b554a5d",
   "metadata": {},
   "outputs": [
    {
     "name": "stdout",
     "output_type": "stream",
     "text": [
      "No module named 'visa'\n",
      "Warning VISA library import failed\n",
      "Warning serial library import failed.\n",
      "Could not load Autonics TM4 Driver\n"
     ]
    }
   ],
   "source": [
    "import sys, datetime\n",
    "from qick.asm_v2 import QickSweep1D\n",
    "\n",
    "sys.path.append(\"../Libraries\") # replace this with your location of the Libraries folder\n",
    "from rabi_gain import *"
   ]
  },
  {
   "cell_type": "code",
   "execution_count": null,
   "id": "cf5af2d0-2f13-4c8e-b37e-e60a6e4bf264",
   "metadata": {},
   "outputs": [],
   "source": [
    "date = str(datetime.datetime.now().strftime('%Y_%m_%d'))\n",
    "time = str(datetime.datetime.now().strftime('%H;%M;%S'))\n",
    "\n",
    "datapath = f'G:\\\\My Drive\\\\chatot\\\\data\\\\rabi_gain\\\\{date}\\\\{time}\\\\' # replace this with your data location\n",
    "\n",
    "config_file = f\"..\\\\..\\\\..\\\\..\\\\cfg\\\\llosta.json\" # replace this with your config\n",
    "\n",
    "meas = rabi_gain(path=datapath, config_file=config_file)\n",
    "\n",
    "min_gain = 0\n",
    "max_gain = 1\n",
    "\n",
    "meas.cfg.expt = {\n",
    "    \"n_avg\": 1000,\n",
    "    \"res_freq\": 5986,\n",
    "    \"res_gain\": 0.1,\n",
    "    \"res_pulse_len\": 5, \n",
    "    \"res_phase\": 0,\n",
    "    \"qubit_pulse_len\": 0.37, \n",
    "    \"qubit_gain\": QickSweep1D('gain_loop', min_gain, max_gain),\n",
    "    \"qubit_freq\": 4303.7,\n",
    "    \"qubit_phase\": 0,\n",
    "    \"trig_offset\": 0.5,\n",
    "    \"relaxation_time\": 50,\n",
    "    \"steps\": 200,\n",
    "    \"min_gain\": min_gain,\n",
    "    \"max_gain\": max_gain,\n",
    "}\n",
    "\n",
    "meas.acquire()\n",
    "meas.display(save=True)\n",
    "meas.savedata()"
   ]
  }
 ],
 "metadata": {
  "kernelspec": {
   "display_name": "Python 3 (ipykernel)",
   "language": "python",
   "name": "python3"
  },
  "language_info": {
   "codemirror_mode": {
    "name": "ipython",
    "version": 3
   },
   "file_extension": ".py",
   "mimetype": "text/x-python",
   "name": "python",
   "nbconvert_exporter": "python",
   "pygments_lexer": "ipython3",
   "version": "3.12.6"
  }
 },
 "nbformat": 4,
 "nbformat_minor": 5
}
