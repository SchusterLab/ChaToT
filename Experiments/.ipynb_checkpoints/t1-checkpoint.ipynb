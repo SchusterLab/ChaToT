{
 "cells": [
  {
   "cell_type": "code",
   "execution_count": 1,
   "id": "e89a38ab-c908-4838-b9cb-d958a5e63f69",
   "metadata": {},
   "outputs": [
    {
     "name": "stdout",
     "output_type": "stream",
     "text": [
      "No module named 'visa'\n",
      "Warning VISA library import failed\n",
      "Warning serial library import failed.\n",
      "Could not load Autonics TM4 Driver\n"
     ]
    }
   ],
   "source": [
    "import sys, datetime\n",
    "from qick.asm_v2 import QickSweep1D\n",
    "\n",
    "sys.path.append(\"../Libraries\") # replace this with your location of the Libraries folder\n",
    "from t1 import *"
   ]
  },
  {
   "cell_type": "code",
   "execution_count": null,
   "id": "965ad2fb-66be-4092-91d3-0e1a483fb1a4",
   "metadata": {},
   "outputs": [
    {
     "data": {
      "application/vnd.jupyter.widget-view+json": {
       "model_id": "422c9064fa7143958992abe537b1f580",
       "version_major": 2,
       "version_minor": 0
      },
      "text/plain": [
       "  0%|          | 0/200000 [00:00<?, ?it/s]"
      ]
     },
     "metadata": {},
     "output_type": "display_data"
    }
   ],
   "source": [
    "date = str(datetime.datetime.now().strftime('%Y_%m_%d'))\n",
    "time = str(datetime.datetime.now().strftime('%H;%M;%S'))\n",
    "\n",
    "datapath = f'G:\\\\My Drive\\\\chatot\\\\data\\\\t1\\\\{date}\\\\{time}\\\\' # replace this with your data location\n",
    "\n",
    "config_file = f\"..\\\\..\\\\..\\\\..\\\\cfg\\\\llosta.json\" # replace this with your config\n",
    "\n",
    "meas = t1(path=datapath, config_file=config_file)\n",
    "\n",
    "min_delay = 0\n",
    "max_delay = 200\n",
    "\n",
    "meas.cfg.expt = {\n",
    "    \"n_avg\": 1000,\n",
    "    \"res_freq\": 5985.1,\n",
    "    \"res_gain\": 0.05,\n",
    "    \"res_pulse_len\": 5, \n",
    "    \"res_phase\": 0,\n",
    "    \"trig_offset\": 0.5,\n",
    "    \"relaxation_time\": 200,\n",
    "    \"steps\": 200,\n",
    "    \"delay\": QickSweep1D('delay_loop', min_delay, max_delay),\n",
    "    \"min_delay\": min_delay,\n",
    "    \"max_delay\": max_delay\n",
    "}\n",
    "\n",
    "meas.acquire()\n",
    "meas.display(save=False)\n",
    "#meas.savedata()"
   ]
  }
 ],
 "metadata": {
  "kernelspec": {
   "display_name": "Python 3 (ipykernel)",
   "language": "python",
   "name": "python3"
  },
  "language_info": {
   "codemirror_mode": {
    "name": "ipython",
    "version": 3
   },
   "file_extension": ".py",
   "mimetype": "text/x-python",
   "name": "python",
   "nbconvert_exporter": "python",
   "pygments_lexer": "ipython3",
   "version": "3.12.6"
  }
 },
 "nbformat": 4,
 "nbformat_minor": 5
}
