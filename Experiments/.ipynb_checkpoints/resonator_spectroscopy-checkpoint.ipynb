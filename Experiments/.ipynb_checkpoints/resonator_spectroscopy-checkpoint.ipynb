{
 "cells": [
  {
   "cell_type": "markdown",
   "id": "3efdfc7e-1480-45a3-b1eb-0b2e9b6fcac2",
   "metadata": {},
   "source": [
    "# Imports"
   ]
  },
  {
   "cell_type": "code",
   "execution_count": 1,
   "id": "e451c65a-fd43-4913-9b87-38a17de85468",
   "metadata": {},
   "outputs": [
    {
     "name": "stdout",
     "output_type": "stream",
     "text": [
      "No module named 'visa'\n",
      "Warning VISA library import failed\n",
      "Warning serial library import failed.\n",
      "Could not load Autonics TM4 Driver\n"
     ]
    }
   ],
   "source": [
    "import sys, datetime\n",
    "from qick.asm_v2 import QickSweep1D\n",
    "\n",
    "sys.path.append(\"../Libraries\") # replace this with your location of the Libraries folder\n",
    "from resonator_spectroscopy import *"
   ]
  },
  {
   "cell_type": "markdown",
   "id": "7d1053a7-c41c-432a-93c2-ad6324831cad",
   "metadata": {},
   "source": [
    "# Run experiment"
   ]
  },
  {
   "cell_type": "code",
   "execution_count": 2,
   "id": "9005911c-eec4-4229-8502-f158d1c83c0e",
   "metadata": {},
   "outputs": [
    {
     "name": "stdout",
     "output_type": "stream",
     "text": [
      "Pyro.NameServer PYRO:Pyro.NameServer@0.0.0.0:8884\n",
      "chatot PYRO:obj_e6dfcbc2d9f9467cb65a95d108b1d633@192.168.137.104:37123\n",
      "Initializing\n",
      "Config is loaded\n",
      "Readout is configured\n",
      "Done initializing\n",
      "line 49\n",
      "line 54\n",
      "line 58\n"
     ]
    },
    {
     "name": "stderr",
     "output_type": "stream",
     "text": [
      "Traceback (most recent call last):\n",
      "  File \"C:\\Users\\csnipp\\Documents\\charles_qick\\Lib\\site-packages\\IPython\\core\\interactiveshell.py\", line 3577, in run_code\n",
      "    exec(code_obj, self.user_global_ns, self.user_ns)\n",
      "  File \"C:\\Users\\csnipp\\AppData\\Local\\Temp\\13\\ipykernel_9660\\3798963498.py\", line 27, in <module>\n",
      "    meas.acquire()\n",
      "  File \"C:\\Users\\csnipp\\Documents\\charles_qick\\Experiments\\../Libraries\\resonator_spectroscopy.py\", line 78, in acquire\n",
      "    prog = res_spec_pulse(soccfg=soccfg, reps=n_avg, final_delay=None, cfg=cfg)\n",
      "           ^^^^^^^^^^^^^^^^^^^^^^^^^^^^^^^^^^^^^^^^^^^^^^^^^^^^^^^^^^^^^^^^^^^^\n",
      "  File \"C:\\Users\\csnipp\\Documents\\charles_qick\\Lib\\site-packages\\qick\\asm_v2.py\", line 2423, in __init__\n",
      "    self.compile()\n",
      "  File \"C:\\Users\\csnipp\\Documents\\charles_qick\\Lib\\site-packages\\qick\\asm_v2.py\", line 2443, in compile\n",
      "    super().compile()\n",
      "  File \"C:\\Users\\csnipp\\Documents\\charles_qick\\Lib\\site-packages\\qick\\asm_v2.py\", line 1931, in compile\n",
      "    self._make_asm()\n",
      "  File \"C:\\Users\\csnipp\\Documents\\charles_qick\\Lib\\site-packages\\qick\\asm_v2.py\", line 1963, in _make_asm\n",
      "    w.fill_steps(self.loop_dict)\n",
      "  File \"C:\\Users\\csnipp\\Documents\\charles_qick\\Lib\\site-packages\\qick\\asm_v2.py\", line 405, in fill_steps\n",
      "    sweep.to_steps(loops)\n",
      "  File \"C:\\Users\\csnipp\\Documents\\charles_qick\\Lib\\site-packages\\qick\\asm_v2.py\", line 301, in to_steps\n",
      "    stepsize = int(self.quantize * np.trunc(r/(nSteps-1)/self.quantize))\n",
      "                                               ~~~~~~^~\n",
      "TypeError: unsupported operand type(s) for -: 'AttrDict' and 'int'\n"
     ]
    }
   ],
   "source": [
    "date = str(datetime.datetime.now().strftime('%Y_%m_%d'))\n",
    "time = str(datetime.datetime.now().strftime('%H;%M;%S'))\n",
    "\n",
    "datapath = f'G:\\\\My Drive\\\\chatot\\\\data\\\\resonator_spectroscopy\\\\{date}\\\\{time}\\\\' # replace this with your data location\n",
    "\n",
    "config_file = f\"..\\\\..\\\\..\\\\..\\\\cfg\\\\llosta.json\" # replace this with your config\n",
    "\n",
    "meas = resonator_spectroscopy(path=datapath, config_file=config_file)\n",
    "\n",
    "freq = 5981.7\n",
    "span = 1.5\n",
    "steps = 200\n",
    "\n",
    "meas.cfg.expt = {\n",
    "    \"n_avg\": 500,\n",
    "    \"ro_len\": 13,\n",
    "    \"pulse_len\": 7,\n",
    "    \"freq\": freq,\n",
    "    \"phase\": 0,\n",
    "    \"gain\": 1,\n",
    "    \"trig_offset\": 0,\n",
    "    \"freq\": QickSweep1D('freq_loop', freq - span, freq + span),\n",
    "    \"steps\": steps,\n",
    "    \"fs\": np.linspace(freq - span, freq + span, steps)\n",
    "}\n",
    "\n",
    "meas.acquire()\n",
    "meas.display()\n",
    "meas.savedata()"
   ]
  },
  {
   "cell_type": "code",
   "execution_count": null,
   "id": "08190bab-89db-4422-81b3-c66aedfa1533",
   "metadata": {},
   "outputs": [],
   "source": []
  }
 ],
 "metadata": {
  "kernelspec": {
   "display_name": "Python 3 (ipykernel)",
   "language": "python",
   "name": "python3"
  },
  "language_info": {
   "codemirror_mode": {
    "name": "ipython",
    "version": 3
   },
   "file_extension": ".py",
   "mimetype": "text/x-python",
   "name": "python",
   "nbconvert_exporter": "python",
   "pygments_lexer": "ipython3",
   "version": "3.12.6"
  }
 },
 "nbformat": 4,
 "nbformat_minor": 5
}
