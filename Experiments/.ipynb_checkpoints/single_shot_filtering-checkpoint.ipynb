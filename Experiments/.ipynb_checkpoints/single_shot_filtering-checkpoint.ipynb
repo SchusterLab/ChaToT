{
 "cells": [
  {
   "cell_type": "code",
   "execution_count": 1,
   "id": "8d2b9499-e4ec-48e5-8d77-3c38ece554a5",
   "metadata": {},
   "outputs": [
    {
     "name": "stdout",
     "output_type": "stream",
     "text": [
      "No module named 'visa'\n",
      "Warning VISA library import failed\n",
      "Warning serial library import failed.\n",
      "Could not load Autonics TM4 Driver\n"
     ]
    }
   ],
   "source": [
    "import sys, datetime\n",
    "from qick.asm_v2 import QickSweep1D\n",
    "import numpy as np\n",
    "\n",
    "sys.path.append(\"../Libraries\") # replace this with your location of the Libraries folder\n",
    "from single_shot_filtering import *"
   ]
  },
  {
   "cell_type": "code",
   "execution_count": 2,
   "id": "93ef1536-c561-4514-85f8-84b1e8f3bc60",
   "metadata": {},
   "outputs": [
    {
     "data": {
      "application/vnd.jupyter.widget-view+json": {
       "model_id": "c63de34c927d480fa445ab15ae4d5043",
       "version_major": 2,
       "version_minor": 0
      },
      "text/plain": [
       "  0%|          | 0/10000 [00:00<?, ?it/s]"
      ]
     },
     "metadata": {},
     "output_type": "display_data"
    },
    {
     "ename": "RuntimeError",
     "evalue": "Warning: requested readout length (5339 x 1 trigs x 1 reps) exceeds buffer size (4096)",
     "output_type": "error",
     "traceback": [
      "\u001b[1;31m---------------------------------------------------------------------------\u001b[0m",
      "\u001b[1;31mRuntimeError\u001b[0m                              Traceback (most recent call last)",
      "Cell \u001b[1;32mIn[2], line 37\u001b[0m\n\u001b[0;32m     19\u001b[0m meas\u001b[38;5;241m.\u001b[39mcfg\u001b[38;5;241m.\u001b[39mexpt \u001b[38;5;241m=\u001b[39m {\n\u001b[0;32m     20\u001b[0m     \u001b[38;5;124m\"\u001b[39m\u001b[38;5;124mn_count\u001b[39m\u001b[38;5;124m\"\u001b[39m: \u001b[38;5;241m10000\u001b[39m,\n\u001b[0;32m     21\u001b[0m     \u001b[38;5;124m\"\u001b[39m\u001b[38;5;124mres_freq\u001b[39m\u001b[38;5;124m\"\u001b[39m: \u001b[38;5;241m5990.45\u001b[39m,\n\u001b[1;32m   (...)\u001b[0m\n\u001b[0;32m     27\u001b[0m     \u001b[38;5;124m\"\u001b[39m\u001b[38;5;124mrelaxation_time\u001b[39m\u001b[38;5;124m\"\u001b[39m: \u001b[38;5;241m400\u001b[39m\n\u001b[0;32m     28\u001b[0m }\n\u001b[0;32m     30\u001b[0m meas\u001b[38;5;241m.\u001b[39mcfg\u001b[38;5;241m.\u001b[39mpulses\u001b[38;5;241m.\u001b[39mpi_gaus \u001b[38;5;241m=\u001b[39m {\n\u001b[0;32m     31\u001b[0m \t\u001b[38;5;124m\"\u001b[39m\u001b[38;5;124mlength\u001b[39m\u001b[38;5;124m\"\u001b[39m: \u001b[38;5;241m0.206\u001b[39m,\n\u001b[0;32m     32\u001b[0m \t\u001b[38;5;124m\"\u001b[39m\u001b[38;5;124mfreq\u001b[39m\u001b[38;5;124m\"\u001b[39m: \u001b[38;5;241m4277.6\u001b[39m,\n\u001b[0;32m     33\u001b[0m \t\u001b[38;5;124m\"\u001b[39m\u001b[38;5;124mphase\u001b[39m\u001b[38;5;124m\"\u001b[39m: \u001b[38;5;241m0\u001b[39m,\n\u001b[0;32m     34\u001b[0m \t\u001b[38;5;124m\"\u001b[39m\u001b[38;5;124mgain\u001b[39m\u001b[38;5;124m\"\u001b[39m: \u001b[38;5;241m0.4\u001b[39m\n\u001b[0;32m     35\u001b[0m \t}\n\u001b[1;32m---> 37\u001b[0m data \u001b[38;5;241m=\u001b[39m \u001b[43mmeas\u001b[49m\u001b[38;5;241;43m.\u001b[39;49m\u001b[43macquire\u001b[49m\u001b[43m(\u001b[49m\u001b[43m)\u001b[49m\n\u001b[0;32m     38\u001b[0m meas\u001b[38;5;241m.\u001b[39mdisplay(save\u001b[38;5;241m=\u001b[39m\u001b[38;5;28;01mTrue\u001b[39;00m)\n\u001b[0;32m     39\u001b[0m meas\u001b[38;5;241m.\u001b[39msavedata()\n",
      "File \u001b[1;32m~\\Documents\\charles_qick\\Experiments\\../Libraries\\single_shot_filtering.py:153\u001b[0m, in \u001b[0;36msingle_shot_filtering.acquire\u001b[1;34m(self, progress)\u001b[0m\n\u001b[0;32m    151\u001b[0m iq_list_ground \u001b[38;5;241m=\u001b[39m []\n\u001b[0;32m    152\u001b[0m \u001b[38;5;28;01mfor\u001b[39;00m n \u001b[38;5;129;01min\u001b[39;00m tqdm(\u001b[38;5;28mrange\u001b[39m(\u001b[38;5;28mself\u001b[39m\u001b[38;5;241m.\u001b[39mcfg\u001b[38;5;241m.\u001b[39mexpt\u001b[38;5;241m.\u001b[39mn_count)):\n\u001b[1;32m--> 153\u001b[0m     iq_list_ground\u001b[38;5;241m.\u001b[39mappend(\u001b[43mprog_ground\u001b[49m\u001b[38;5;241;43m.\u001b[39;49m\u001b[43macquire_decimated\u001b[49m\u001b[43m(\u001b[49m\u001b[38;5;28;43mself\u001b[39;49m\u001b[38;5;241;43m.\u001b[39;49m\u001b[43msoc\u001b[49m\u001b[43m,\u001b[49m\u001b[43m \u001b[49m\u001b[43msoft_avgs\u001b[49m\u001b[38;5;241;43m=\u001b[39;49m\u001b[38;5;241;43m1\u001b[39;49m\u001b[43m,\u001b[49m\u001b[43m \u001b[49m\u001b[43mprogress\u001b[49m\u001b[38;5;241;43m=\u001b[39;49m\u001b[38;5;28;43;01mFalse\u001b[39;49;00m\u001b[43m)\u001b[49m[\u001b[38;5;241m0\u001b[39m])\n\u001b[0;32m    155\u001b[0m prog_excited \u001b[38;5;241m=\u001b[39m single_shot_excited(soccfg\u001b[38;5;241m=\u001b[39m\u001b[38;5;28mself\u001b[39m\u001b[38;5;241m.\u001b[39msoccfg, reps\u001b[38;5;241m=\u001b[39m\u001b[38;5;241m1\u001b[39m, final_delay\u001b[38;5;241m=\u001b[39m\u001b[38;5;28mself\u001b[39m\u001b[38;5;241m.\u001b[39mcfg\u001b[38;5;241m.\u001b[39mexpt\u001b[38;5;241m.\u001b[39mrelaxation_time, cfg\u001b[38;5;241m=\u001b[39m\u001b[38;5;28mself\u001b[39m\u001b[38;5;241m.\u001b[39mcfg)\n\u001b[0;32m    156\u001b[0m iq_list_excited \u001b[38;5;241m=\u001b[39m []\n",
      "File \u001b[1;32m~\\Documents\\charles_qick\\Lib\\site-packages\\qick\\qick_asm.py:2054\u001b[0m, in \u001b[0;36mAcquireMixin.acquire_decimated\u001b[1;34m(self, soc, soft_avgs, load_pulses, start_src, progress, remove_offset)\u001b[0m\n\u001b[0;32m   2052\u001b[0m     maxlen \u001b[38;5;241m=\u001b[39m \u001b[38;5;28mself\u001b[39m\u001b[38;5;241m.\u001b[39msoccfg[\u001b[38;5;124m'\u001b[39m\u001b[38;5;124mreadouts\u001b[39m\u001b[38;5;124m'\u001b[39m][ch][\u001b[38;5;124m'\u001b[39m\u001b[38;5;124mbuf_maxlen\u001b[39m\u001b[38;5;124m'\u001b[39m]\n\u001b[0;32m   2053\u001b[0m     \u001b[38;5;28;01mif\u001b[39;00m ro[\u001b[38;5;124m'\u001b[39m\u001b[38;5;124mlength\u001b[39m\u001b[38;5;124m'\u001b[39m]\u001b[38;5;241m*\u001b[39mro[\u001b[38;5;124m'\u001b[39m\u001b[38;5;124mtrigs\u001b[39m\u001b[38;5;124m'\u001b[39m]\u001b[38;5;241m*\u001b[39mtotal_count \u001b[38;5;241m>\u001b[39m maxlen:\n\u001b[1;32m-> 2054\u001b[0m         \u001b[38;5;28;01mraise\u001b[39;00m \u001b[38;5;167;01mRuntimeError\u001b[39;00m(\u001b[38;5;124m\"\u001b[39m\u001b[38;5;124mWarning: requested readout length (\u001b[39m\u001b[38;5;132;01m%d\u001b[39;00m\u001b[38;5;124m x \u001b[39m\u001b[38;5;132;01m%d\u001b[39;00m\u001b[38;5;124m trigs x \u001b[39m\u001b[38;5;132;01m%d\u001b[39;00m\u001b[38;5;124m reps) exceeds buffer size (\u001b[39m\u001b[38;5;132;01m%d\u001b[39;00m\u001b[38;5;124m)\u001b[39m\u001b[38;5;124m\"\u001b[39m\u001b[38;5;241m%\u001b[39m(ro[\u001b[38;5;124m'\u001b[39m\u001b[38;5;124mlength\u001b[39m\u001b[38;5;124m'\u001b[39m], ro[\u001b[38;5;124m'\u001b[39m\u001b[38;5;124mtrigs\u001b[39m\u001b[38;5;124m'\u001b[39m], total_count, maxlen))\n\u001b[0;32m   2055\u001b[0m     dec_buf\u001b[38;5;241m.\u001b[39mappend(np\u001b[38;5;241m.\u001b[39mzeros((ro[\u001b[38;5;124m'\u001b[39m\u001b[38;5;124mlength\u001b[39m\u001b[38;5;124m'\u001b[39m]\u001b[38;5;241m*\u001b[39mtotal_count\u001b[38;5;241m*\u001b[39mro[\u001b[38;5;124m'\u001b[39m\u001b[38;5;124mtrigs\u001b[39m\u001b[38;5;124m'\u001b[39m], \u001b[38;5;241m2\u001b[39m), dtype\u001b[38;5;241m=\u001b[39m\u001b[38;5;28mfloat\u001b[39m))\n\u001b[0;32m   2057\u001b[0m \u001b[38;5;66;03m# for each soft average, run and acquire decimated data\u001b[39;00m\n",
      "\u001b[1;31mRuntimeError\u001b[0m: Warning: requested readout length (5339 x 1 trigs x 1 reps) exceeds buffer size (4096)"
     ]
    }
   ],
   "source": [
    "date = str(datetime.datetime.now().strftime('%Y_%m_%d'))\n",
    "time = str(datetime.datetime.now().strftime('%H;%M;%S'))\n",
    "\n",
    "datapath = f'G:\\\\My Drive\\\\chatot\\\\data\\\\single_shot_filtering\\\\{date}\\\\{time}\\\\' # replace this with your data location\n",
    "\n",
    "config_file = f\"..\\\\..\\\\..\\\\..\\\\cfg\\\\llosta.json\" # replace this with your config\n",
    "\n",
    "meas = single_shot_filtering(path=datapath, config_file=config_file)\n",
    "\n",
    "def filter(n): # function to be the filter. change to whatever\n",
    "    return no_filter(n)\n",
    "\n",
    "def linear_filter(n):\n",
    "    return np.linspace(1, 0, n)\n",
    "\n",
    "def no_filter(n):\n",
    "    return np.ones(n)\n",
    "\n",
    "meas.cfg.expt = {\n",
    "    \"n_count\": 10000,\n",
    "    \"res_freq\": 5990.45,\n",
    "    \"res_gain\": 0.03,\n",
    "    \"res_pulse_len\": 17.38, \n",
    "    \"res_phase\": 0,\n",
    "    \"trig_offset\": 0.5,\n",
    "    \"filter\": filter, # what's the best way to do this?\n",
    "    \"relaxation_time\": 400\n",
    "}\n",
    "\n",
    "meas.cfg.pulses.pi_gaus = {\n",
    "\t\"length\": 0.206,\n",
    "\t\"freq\": 4277.6,\n",
    "\t\"phase\": 0,\n",
    "\t\"gain\": 0.4\n",
    "\t}\n",
    "\n",
    "data = meas.acquire()\n",
    "meas.display(save=True)\n",
    "meas.savedata()"
   ]
  }
 ],
 "metadata": {
  "kernelspec": {
   "display_name": "Python 3 (ipykernel)",
   "language": "python",
   "name": "python3"
  },
  "language_info": {
   "codemirror_mode": {
    "name": "ipython",
    "version": 3
   },
   "file_extension": ".py",
   "mimetype": "text/x-python",
   "name": "python",
   "nbconvert_exporter": "python",
   "pygments_lexer": "ipython3",
   "version": "3.12.6"
  }
 },
 "nbformat": 4,
 "nbformat_minor": 5
}
