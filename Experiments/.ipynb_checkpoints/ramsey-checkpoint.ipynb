{
 "cells": [
  {
   "cell_type": "code",
   "execution_count": null,
   "id": "11fbc62b-952e-4eb8-9295-adc01f2d3b9e",
   "metadata": {},
   "outputs": [],
   "source": [
    "import sys, datetime\n",
    "from qick.asm_v2 import QickSweep1D\n",
    "\n",
    "sys.path.append(\"../Libraries\") # replace this with your location of the Libraries folder\n",
    "from ramsey import *"
   ]
  },
  {
   "cell_type": "code",
   "execution_count": null,
   "id": "94e54de1-df2e-4128-a665-cbfd98871fcd",
   "metadata": {},
   "outputs": [],
   "source": [
    "date = str(datetime.datetime.now().strftime('%Y_%m_%d'))\n",
    "time = str(datetime.datetime.now().strftime('%H;%M;%S'))\n",
    "\n",
    "datapath = f'G:\\\\My Drive\\\\chatot\\\\data\\\\ramsey\\\\{date}\\\\{time}\\\\' # replace this with your data location\n",
    "\n",
    "config_file = f\"..\\\\..\\\\..\\\\..\\\\cfg\\\\llosta.json\" # replace this with your config\n",
    "\n",
    "meas = ramsey(path=datapath, config_file=config_file)\n",
    "\n",
    "min_delay = 0\n",
    "max_delay = 100\n",
    "\n",
    "meas.cfg.expt = {\n",
    "    \"n_avg\": 500,\n",
    "    \"res_freq\": 5985.1,\n",
    "    \"res_gain\": 0.05,\n",
    "    \"res_pulse_len\": 5, \n",
    "    \"res_phase\": 0,\n",
    "    \"trig_offset\": 0.5,\n",
    "    \"relaxation_time\": 100,\n",
    "    \"steps\": 100,\n",
    "    \"delay\": QickSweep1D('delay_loop', min_delay, max_delay),\n",
    "    \"min_delay\": min_delay,\n",
    "    \"max_delay\": max_delay\n",
    "}\n",
    "\n",
    "meas.acquire()\n",
    "meas.display(save=True)\n",
    "meas.savedata()"
   ]
  }
 ],
 "metadata": {
  "kernelspec": {
   "display_name": "Python 3 (ipykernel)",
   "language": "python",
   "name": "python3"
  },
  "language_info": {
   "codemirror_mode": {
    "name": "ipython",
    "version": 3
   },
   "file_extension": ".py",
   "mimetype": "text/x-python",
   "name": "python",
   "nbconvert_exporter": "python",
   "pygments_lexer": "ipython3",
   "version": "3.12.6"
  }
 },
 "nbformat": 4,
 "nbformat_minor": 5
}
