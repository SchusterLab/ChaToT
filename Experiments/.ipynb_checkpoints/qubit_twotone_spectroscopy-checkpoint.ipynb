{
 "cells": [
  {
   "cell_type": "code",
   "execution_count": 1,
   "id": "bf1f55d3-e0d1-4443-bb44-710bd802b6d6",
   "metadata": {},
   "outputs": [
    {
     "name": "stdout",
     "output_type": "stream",
     "text": [
      "No module named 'visa'\n",
      "Warning VISA library import failed\n",
      "Warning serial library import failed.\n",
      "Could not load Autonics TM4 Driver\n"
     ]
    }
   ],
   "source": [
    "import sys, datetime\n",
    "from qick.asm_v2 import QickSweep1D\n",
    "\n",
    "sys.path.append(\"../Libraries\") # replace this with your location of the Libraries folder\n",
    "from qubit_twotone_spectroscopy import *"
   ]
  },
  {
   "cell_type": "code",
   "execution_count": 4,
   "id": "3e77e56a-6977-4c1e-867e-122b1b1c36e8",
   "metadata": {},
   "outputs": [
    {
     "name": "stdout",
     "output_type": "stream",
     "text": [
      "Pyro.NameServer PYRO:Pyro.NameServer@0.0.0.0:8884\n",
      "chatot PYRO:obj_9ec87997b4ec4686b56662b8b6d1fd8f@192.168.137.104:41741\n"
     ]
    },
    {
     "name": "stderr",
     "output_type": "stream",
     "text": [
      "Traceback (most recent call last):\n",
      "  File \"C:\\Users\\csnipp\\Documents\\charles_qick\\Lib\\site-packages\\IPython\\core\\interactiveshell.py\", line 3577, in run_code\n",
      "    exec(code_obj, self.user_global_ns, self.user_ns)\n",
      "  File \"C:\\Users\\csnipp\\AppData\\Local\\Temp\\2\\ipykernel_10184\\3541674787.py\", line 30, in <module>\n",
      "    meas.acquire()\n",
      "  File \"C:\\Users\\csnipp\\Documents\\charles_qick\\Experiments\\../Libraries\\qubit_twotone_spectroscopy.py\", line 103, in acquire\n",
      "    iq_list = prog.acquire(soc)\n",
      "              ^^^^^^^^^^^^^^^^^\n",
      "  File \"C:\\Users\\csnipp\\Documents\\charles_qick\\Lib\\site-packages\\qick\\qick_asm.py\", line 1723, in acquire\n",
      "    self.config_all(soc, load_pulses=load_pulses, load_mem=False)\n",
      "  File \"C:\\Users\\csnipp\\Documents\\charles_qick\\Lib\\site-packages\\qick\\qick_asm.py\", line 1051, in config_all\n",
      "    self.load_pulses(soc)\n",
      "  File \"C:\\Users\\csnipp\\Documents\\charles_qick\\Lib\\site-packages\\qick\\qick_asm.py\", line 1517, in load_pulses\n",
      "    soc.load_pulse_data(iCh,\n",
      "  File \"C:\\Users\\csnipp\\Documents\\charles_qick\\Lib\\site-packages\\Pyro4\\core.py\", line 185, in __call__\n",
      "    return self.__send(self.__name, args, kwargs)\n",
      "           ^^^^^^^^^^^^^^^^^^^^^^^^^^^^^^^^^^^^^^\n",
      "  File \"C:\\Users\\csnipp\\Documents\\charles_qick\\Lib\\site-packages\\Pyro4\\core.py\", line 476, in _pyroInvoke\n",
      "    raise data  # if you see this in your traceback, you should probably inspect the remote traceback as well\n",
      "    ^^^^^^^^^^\n",
      "RuntimeError: AxisSignalGen: buffer length must be 32768 samples or less.\n",
      " +--- This exception occured remotely (Pyro) - Remote traceback:\n",
      " | Traceback (most recent call last):\n",
      " |   File \"/usr/local/share/pynq-venv/lib/python3.8/site-packages/Pyro4/core.py\", line 1424, in handleRequest\n",
      " |     data = method(*vargs, **kwargs)  # this is the actual method call to the Pyro object\n",
      " |   File \"/usr/local/share/pynq-venv/lib/python3.8/site-packages/qick/qick.py\", line 768, in load_pulse_data\n",
      " |     return self.gens[ch].load(xin=data, addr=addr)\n",
      " |   File \"/usr/local/share/pynq-venv/lib/python3.8/site-packages/qick/drivers/generator.py\", line 131, in load\n",
      " |     raise RuntimeError(\"%s: buffer length must be %d samples or less.\" %\n",
      " | RuntimeError: AxisSignalGen: buffer length must be 32768 samples or less.\n",
      " +--- End of remote traceback\n"
     ]
    }
   ],
   "source": [
    "date = str(datetime.datetime.now().strftime('%Y_%m_%d'))\n",
    "time = str(datetime.datetime.now().strftime('%H;%M;%S'))\n",
    "\n",
    "datapath = f'G:\\\\My Drive\\\\chatot\\\\data\\\\qubit_twotone_spectroscopy\\\\{date}\\\\{time}\\\\' # replace this with your data location\n",
    "\n",
    "config_file = f\"..\\\\..\\\\..\\\\..\\\\cfg\\\\llosta.json\" # replace this with your config\n",
    "\n",
    "meas = qubit_twotone_spectroscopy(path=datapath, config_file=config_file)\n",
    "\n",
    "center = 4331.5\n",
    "span = 5\n",
    "\n",
    "meas.cfg.expt = {\n",
    "    \"n_avg\": 500,\n",
    "    \"res_freq\": 5985.35,\n",
    "    \"res_gain\": 0.1,\n",
    "    \"res_pulse_len\": 100, # make this longer\n",
    "    \"res_phase\": 0,\n",
    "    \"qubit_pulse_len\": 1, # make this longer (how long should it be?)\n",
    "    \"qubit_gain\": 0.3,\n",
    "    \"qubit_freq\": QickSweep1D('freq_loop', center - span, center + span),\n",
    "    \"qubit_phase\": 0,\n",
    "    \"trig_offset\": 0.5,\n",
    "    \"relaxation_time\": 1,\n",
    "    \"steps\": 100,\n",
    "    \"center\": center,\n",
    "    \"span\": span\n",
    "}\n",
    "\n",
    "meas.acquire()\n",
    "meas.display(save=False)\n",
    "#meas.savedata()"
   ]
  }
 ],
 "metadata": {
  "kernelspec": {
   "display_name": "Python 3 (ipykernel)",
   "language": "python",
   "name": "python3"
  },
  "language_info": {
   "codemirror_mode": {
    "name": "ipython",
    "version": 3
   },
   "file_extension": ".py",
   "mimetype": "text/x-python",
   "name": "python",
   "nbconvert_exporter": "python",
   "pygments_lexer": "ipython3",
   "version": "3.12.6"
  }
 },
 "nbformat": 4,
 "nbformat_minor": 5
}
