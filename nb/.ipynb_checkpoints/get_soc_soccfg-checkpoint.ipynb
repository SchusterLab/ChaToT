{
 "cells": [
  {
   "cell_type": "code",
   "execution_count": 1,
   "id": "a4f44892-320d-474b-a671-b8f22ac3ac53",
   "metadata": {},
   "outputs": [
    {
     "name": "stdout",
     "output_type": "stream",
     "text": [
      "No module named 'visa'\n",
      "Warning VISA library import failed\n",
      "Warning serial library import failed.\n",
      "Could not load Autonics TM4 Driver\n"
     ]
    }
   ],
   "source": [
    "import sys\n",
    "from qick import QickConfig, QickProgram\n",
    "from qick.asm_v2 import QickSweep1D, QickProgramV2\n",
    "import matplotlib.pyplot as plt\n",
    "#sys.path.insert(0, r'C:\\_Lib')\n",
    "from slab.instruments import InstrumentManager"
   ]
  },
  {
   "cell_type": "code",
   "execution_count": 2,
   "id": "c5dfe28f-a66d-47fb-8c79-2f71b7879afa",
   "metadata": {},
   "outputs": [
    {
     "name": "stderr",
     "output_type": "stream",
     "text": [
      "QICK library version mismatch: 0.2.283 remote (the board), 0.2.285 local (the PC)\n",
      "                        This may cause errors, usually KeyError in QickConfig initialization.\n",
      "                        If this happens, you must bring your versions in sync.\n"
     ]
    },
    {
     "name": "stdout",
     "output_type": "stream",
     "text": [
      "QICK running on ZCU216, software version 0.2.283\n",
      "\n",
      "Firmware configuration (built Wed Aug  7 13:00:26 2024):\n",
      "\n",
      "\tGlobal clocks (MHz): tProcessor 614.400, RF reference 245.760\n",
      "\n",
      "\t5 signal generator channels:\n",
      "\t0:\taxis_signal_gen_v6 - envelope memory 16384 samples (1.667 us)\n",
      "\t\tfs=9830.400 MHz, fabric=614.400 MHz, 32-bit DDS, range=9830.400 MHz\n",
      "\t\tDAC tile 2, blk 0 is 0_230, on JHC3\n",
      "\t1:\taxis_sg_int4_v1 - envelope memory 4096 samples (9.524 us)\n",
      "\t\tfs=6881.280 MHz, fabric=430.080 MHz, 16-bit DDS, range=1720.320 MHz\n",
      "\t\tDAC tile 3, blk 0 is 0_231, on JHC3\n",
      "\t2:\taxis_sg_int4_v1 - envelope memory 4096 samples (9.524 us)\n",
      "\t\tfs=6881.280 MHz, fabric=430.080 MHz, 16-bit DDS, range=1720.320 MHz\n",
      "\t\tDAC tile 3, blk 1 is 1_231, on JHC4\n",
      "\t3:\taxis_sg_mux8_v1 - envelope memory 0 samples (0.000 us)\n",
      "\t\tfs=9830.400 MHz, fabric=614.400 MHz, 32-bit DDS, range=9830.400 MHz\n",
      "\t\tDAC tile 2, blk 2 is 2_230, on JHC3\n",
      "\t4:\taxis_sg_mixmux8_v1 - envelope memory 0 samples (0.000 us)\n",
      "\t\tfs=6881.280 MHz, fabric=430.080 MHz, 32-bit DDS, range=1720.320 MHz\n",
      "\t\tDAC tile 3, blk 2 is 2_231, on JHC3\n",
      "\n",
      "\t7 readout channels:\n",
      "\t0:\taxis_dyn_readout_v1 - configured by tProc output 3\n",
      "\t\tfs=2457.600 MHz, decimated=307.200 MHz, 32-bit DDS, range=2457.600 MHz\n",
      "\t\tmaxlen 16384 accumulated, 1024 decimated (3.333 us)\n",
      "\t\ttriggered by tport 0, pin 0, feedback to tProc input 0\n",
      "\t\tADC tile 2, blk 0 is 0_226, on JHC7\n",
      "\t1:\taxis_readout_v3 - configured by tProc output 3\n",
      "\t\tfs=2457.600 MHz, decimated=614.400 MHz, 32-bit DDS, range=2457.600 MHz\n",
      "\t\tmaxlen 16384 accumulated, 1024 decimated (1.667 us)\n",
      "\t\ttriggered by tport 1, pin 0, feedback to tProc input 1\n",
      "\t\tADC tile 2, blk 1 is 1_226, on JHC8\n",
      "\t2:\taxis_pfb_readout_v3 - configured by PYNQ\n",
      "\t\tfs=2457.600 MHz, decimated=38.400 MHz, 32-bit DDS, range=38.400 MHz\n",
      "\t\tmaxlen 16384 accumulated, 1024 decimated (26.667 us)\n",
      "\t\ttriggered by tport 2, pin 0, feedback to tProc input 2\n",
      "\t\tADC tile 2, blk 2 is 2_226, on JHC7\n",
      "\t3:\taxis_pfb_readout_v3 - configured by PYNQ\n",
      "\t\tfs=2457.600 MHz, decimated=38.400 MHz, 32-bit DDS, range=38.400 MHz\n",
      "\t\tmaxlen 16384 accumulated, 1024 decimated (26.667 us)\n",
      "\t\ttriggered by tport 3, pin 0, feedback to tProc input 3\n",
      "\t\tADC tile 2, blk 2 is 2_226, on JHC7\n",
      "\t4:\taxis_pfb_readout_v3 - configured by PYNQ\n",
      "\t\tfs=2457.600 MHz, decimated=38.400 MHz, 32-bit DDS, range=38.400 MHz\n",
      "\t\tmaxlen 16384 accumulated, 1024 decimated (26.667 us)\n",
      "\t\ttriggered by tport 4, pin 0, feedback to tProc input 4\n",
      "\t\tADC tile 2, blk 2 is 2_226, on JHC7\n",
      "\t5:\taxis_pfb_readout_v3 - configured by PYNQ\n",
      "\t\tfs=2457.600 MHz, decimated=38.400 MHz, 32-bit DDS, range=38.400 MHz\n",
      "\t\tmaxlen 16384 accumulated, 1024 decimated (26.667 us)\n",
      "\t\ttriggered by tport 5, pin 0, feedback to tProc input 5\n",
      "\t\tADC tile 2, blk 2 is 2_226, on JHC7\n",
      "\t6:\taxis_readout_v2 - configured by PYNQ\n",
      "\t\tfs=2457.600 MHz, decimated=307.200 MHz, 32-bit DDS, range=2457.600 MHz\n",
      "\t\tmaxlen 16384 accumulated, 1024 decimated (3.333 us)\n",
      "\t\ttriggered by tport 6, pin 0, feedback to tProc input 6\n",
      "\t\tADC tile 2, blk 3 is 3_226, on JHC8\n",
      "\n",
      "\t8 digital output pins:\n",
      "\t0:\tPMOD0_0_LS\n",
      "\t1:\tPMOD0_1_LS\n",
      "\t2:\tPMOD0_2_LS\n",
      "\t3:\tPMOD0_3_LS\n",
      "\t4:\tPMOD0_4_LS\n",
      "\t5:\tPMOD0_5_LS\n",
      "\t6:\tPMOD0_6_LS\n",
      "\t7:\tPMOD0_7_LS\n",
      "\n",
      "\ttProc qick_processor (\"v2\") rev 20: program memory 1024 words, data memory 1024 words\n",
      "\t\texternal start pin: None\n",
      "\n",
      "\tDDR4 memory buffer: 1073741824 samples (3.495 sec), 128 samples/transfer\n",
      "\t\twired to readouts [0, 2, 3, 4, 5, 6]\n",
      "\n",
      "\tMR buffer: 8192 samples (3.333 us), wired to readouts [0, 6]\n"
     ]
    }
   ],
   "source": [
    "SQUAT_pc = '192.168.137.8'\n",
    "zcu216_tmon = '192.168.137.104'\n",
    "\n",
    "im = InstrumentManager(ns_address=SQUAT_pc, ns_port=8884)\n",
    "soc = im['charles_qick']\n",
    "soccfg = QickConfig(soc.get_cfg())\n",
    "print(soccfg)\n",
    "\n",
    "# next up: run TPROCV2 demo code"
   ]
  }
 ],
 "metadata": {
  "kernelspec": {
   "display_name": "Python 3 (ipykernel)",
   "language": "python",
   "name": "python3"
  },
  "language_info": {
   "codemirror_mode": {
    "name": "ipython",
    "version": 3
   },
   "file_extension": ".py",
   "mimetype": "text/x-python",
   "name": "python",
   "nbconvert_exporter": "python",
   "pygments_lexer": "ipython3",
   "version": "3.12.6"
  }
 },
 "nbformat": 4,
 "nbformat_minor": 5
}
