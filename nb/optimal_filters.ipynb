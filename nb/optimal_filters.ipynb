{
 "cells": [
  {
   "cell_type": "markdown",
   "id": "cfb9d1af-dc3a-4e3a-aae0-7785f9de2cb8",
   "metadata": {},
   "source": [
    "# optimal filters\n",
    "\n",
    "this notebook will go through the creation of the optimal filters outlined in this paper: https://journals.aps.org/pra/pdf/10.1103/PhysRevA.76.012325."
   ]
  },
  {
   "cell_type": "markdown",
   "id": "0905959d-e050-49d3-9021-09734ee877f2",
   "metadata": {},
   "source": [
    "# optimal boxcar filter\n",
    "\n",
    "$\\psi(t)$ is our detector output\n",
    "\n",
    "$\\tau_f$ is our dimensionless integration time (integration time over T1)\n",
    "\n",
    "$s = \\int_0^{\\tau_f}\\psi(t)d\\tau$ is our measurement output\n",
    "\n",
    "$r_{sn}$ is our signal-to-noise ratio\n",
    "\n",
    "$\\sigma = \\sqrt{\\tau_f / r_{sn}}$ is the standard deviation of the normally-distributed readout noise (?)\n",
    "\n",
    "$P_{-}(s) = \\frac{1}{\\sqrt{2\\pi}\\sigma}\\text{exp}(-(s+\\tau_f)^2/(2\\sigma^2))$ is the probability distribution of a qubit prepared in the ground state\n",
    "\n",
    "$P_{+}(s) = \\left(\\frac{1}{\\sqrt{2\\pi}\\sigma}\\text{exp}(-(s-\\tau_f)^2/(2\\sigma^2) - \\tau_f) + \\frac{1}{4}\\text{exp}(-(s+\\tau_f)/2)\\right) \\text{exp}(\\sigma^2 / 8)\\left(\\text{erf}\\left(\\frac{\\sigma^2 - 2(s-\\tau_f)}{2\\sqrt{2}\\sigma}\\right) - \\text{erf}\\left(\\frac{\\sigma^2 - 2(s+\\tau_f)}{2\\sqrt{2}\\sigma}\\right)\\right)$ is the probability distribution of a qubit prepared in the excited state (?)\n",
    "\n",
    "$\\nu_{th}$ is the measurement threshold\n",
    "\n",
    "to maximize fidelity, we want $P_{-}(\\nu_{th}) = P_{+}(\\nu_{th})$. we can do this numerically\n",
    "\n",
    "then we want to use the correct value of $\\nu_{th}(\\tau_f)$ (???)\n",
    "\n"
   ]
  },
  {
   "cell_type": "code",
   "execution_count": null,
   "id": "e6151f39-d341-4d53-9913-0c0da24f145a",
   "metadata": {},
   "outputs": [],
   "source": []
  }
 ],
 "metadata": {
  "kernelspec": {
   "display_name": "Python 3 (ipykernel)",
   "language": "python",
   "name": "python3"
  },
  "language_info": {
   "codemirror_mode": {
    "name": "ipython",
    "version": 3
   },
   "file_extension": ".py",
   "mimetype": "text/x-python",
   "name": "python",
   "nbconvert_exporter": "python",
   "pygments_lexer": "ipython3",
   "version": "3.13.1"
  }
 },
 "nbformat": 4,
 "nbformat_minor": 5
}
