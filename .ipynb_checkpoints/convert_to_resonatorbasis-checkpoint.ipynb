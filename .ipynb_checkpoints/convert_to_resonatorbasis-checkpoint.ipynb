{
 "cells": [
  {
   "cell_type": "code",
   "execution_count": null,
   "id": "f906ed56-5eef-4736-9be6-9cff55330a6f",
   "metadata": {},
   "outputs": [],
   "source": [
    "import ResonanceFitter.py"
   ]
  },
  {
   "cell_type": "markdown",
   "id": "d6130e8b-3aa2-4b6a-a25c-3918e499ba1b",
   "metadata": {},
   "source": [
    "## 1. Fit Data\n",
    "\n",
    "(use function in ResonanceFitter.py)"
   ]
  },
  {
   "cell_type": "code",
   "execution_count": 1,
   "id": "1f31ca59-96ac-4c42-8823-a1d6182a350a",
   "metadata": {},
   "outputs": [
    {
     "ename": "NameError",
     "evalue": "name 'np' is not defined",
     "output_type": "error",
     "traceback": [
      "\u001b[0;31m---------------------------------------------------------------------------\u001b[0m",
      "\u001b[0;31mNameError\u001b[0m                                 Traceback (most recent call last)",
      "Cell \u001b[0;32mIn[1], line 1\u001b[0m\n\u001b[0;32m----> 1\u001b[0m i_fr_0 \u001b[38;5;241m=\u001b[39m \u001b[43mnp\u001b[49m\u001b[38;5;241m.\u001b[39margmin(\u001b[38;5;28mabs\u001b[39m(data[\u001b[38;5;124m'\u001b[39m\u001b[38;5;124mfreqs\u001b[39m\u001b[38;5;124m'\u001b[39m]\u001b[38;5;241m-\u001b[39mdata[\u001b[38;5;124m'\u001b[39m\u001b[38;5;124mfr\u001b[39m\u001b[38;5;124m'\u001b[39m]))\n\u001b[1;32m      2\u001b[0m i_start \u001b[38;5;241m=\u001b[39m \u001b[38;5;28mmin\u001b[39m([\u001b[38;5;241m0\u001b[39m, i_fr_0\u001b[38;5;241m-\u001b[39m\u001b[38;5;241m1500\u001b[39m])\n\u001b[1;32m      3\u001b[0m i_end  \u001b[38;5;241m=\u001b[39m \u001b[38;5;28mmax\u001b[39m([i_fr_0\u001b[38;5;241m+\u001b[39m\u001b[38;5;241m1500\u001b[39m, \u001b[38;5;28mlen\u001b[39m(data[\u001b[38;5;124m'\u001b[39m\u001b[38;5;124mfreqs\u001b[39m\u001b[38;5;124m'\u001b[39m])])\n",
      "\u001b[0;31mNameError\u001b[0m: name 'np' is not defined"
     ]
    }
   ],
   "source": [
    "\n",
    "\n",
    "i_fr_0 = np.argmin(abs(data['freqs']-data['fr']))\n",
    "i_start = min([0, i_fr_0-1500])\n",
    "i_end  = max([i_fr_0+1500, len(data['freqs'])])\n",
    "\n",
    "fn = filename\n",
    "\n",
    "fine_pars, fine_errs = finefit(data['freqs'][i_start:i_end], data[iq][i_start:i_end], data['fr'], fn, show_plots=plot)\n",
    "return fine_pars, fine_errs"
   ]
  },
  {
   "cell_type": "markdown",
   "id": "0221226a-e576-421e-a36d-861a9f85cc84",
   "metadata": {},
   "source": [
    "## Rotate"
   ]
  },
  {
   "cell_type": "code",
   "execution_count": null,
   "id": "593a2dc3-18c5-4c80-88f3-4458ad99449c",
   "metadata": {},
   "outputs": [],
   "source": [
    "def to_ideal(self, chunk):\n",
    "    ideal_chunk = rotate_to_ideal_semi_compact(chunk, self.f_r, self.fit_dict)\n",
    "    return ideal_chunk\n",
    "\n",
    "def rotate_to_ideal_semi_compact(z, f, fopt):  \n",
    "    # z is the iq data\n",
    "    # f is the frequencies\n",
    "    #fopt is the parameters\n",
    "    fr = fopt['f0']\n",
    "    a =  fopt['zOff']\n",
    "    tau =  fopt['tau']\n",
    "    phi = fopt['phi']\n",
    "    return 1-((1-z/(a*np.exp(-2j*np.pi*(f-fr)*tau)))*(np.cos(phi)/np.exp(1j*phi)))\n",
    "\n"
   ]
  },
  {
   "cell_type": "code",
   "execution_count": null,
   "id": "1fd09ff3-6ce8-4b1e-9f2b-57a6a08c1ef5",
   "metadata": {},
   "outputs": [],
   "source": [
    "data =to_ideal(chunk)"
   ]
  },
  {
   "cell_type": "markdown",
   "id": "f1053dad-36cf-4a31-aabb-e19a4c6f3866",
   "metadata": {},
   "source": [
    "## Convert to diff and diss"
   ]
  },
  {
   "cell_type": "code",
   "execution_count": null,
   "id": "1b9f437d-5016-4e70-9fa7-1c82c328cc3b",
   "metadata": {},
   "outputs": [],
   "source": [
    "def resonator_basis(iq_ideal_basis, fine_pars, axis=-1):\n",
    "    dS21 = iq_ideal_basis - np.mean(iq_ideal_basis,dtype=complex, axis=axis, keepdims=True)\n",
    "    frequency =  dS21.imag * fine_pars['Qc'] / ( 2 * fine_pars['Qr'] **2)\n",
    "    dissipation = dS21.real * fine_pars['Qc']  / (fine_pars['Qr'] **2)\n",
    "    return frequency, dissipation"
   ]
  },
  {
   "cell_type": "code",
   "execution_count": null,
   "id": "11a3097a-4503-4500-b38d-2e77ca3561b9",
   "metadata": {},
   "outputs": [],
   "source": [
    "diff, diss = resonator_basis(to_ideal(data), self.fit_dict)\n"
   ]
  },
  {
   "cell_type": "code",
   "execution_count": null,
   "id": "f70fdf68-1a95-4861-b888-ae4030099b77",
   "metadata": {},
   "outputs": [],
   "source": []
  }
 ],
 "metadata": {
  "kernelspec": {
   "display_name": "Python 3 (ipykernel)",
   "language": "python",
   "name": "python3"
  },
  "language_info": {
   "codemirror_mode": {
    "name": "ipython",
    "version": 3
   },
   "file_extension": ".py",
   "mimetype": "text/x-python",
   "name": "python",
   "nbconvert_exporter": "python",
   "pygments_lexer": "ipython3",
   "version": "3.8.10"
  }
 },
 "nbformat": 4,
 "nbformat_minor": 5
}
